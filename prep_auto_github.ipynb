{
  "nbformat": 4,
  "nbformat_minor": 0,
  "metadata": {
    "colab": {
      "provenance": []
    },
    "kernelspec": {
      "name": "python3",
      "display_name": "Python 3"
    },
    "language_info": {
      "name": "python"
    }
  },
  "cells": [
    {
      "cell_type": "code",
      "execution_count": null,
      "metadata": {
        "id": "CmokXnmHFq00"
      },
      "outputs": [],
      "source": [
        "import pandas as pd\n",
        "from sklearn.preprocessing import StandardScaler\n"
      ]
    },
    {
      "cell_type": "code",
      "source": [
        "# Upload your CSV from local\n",
        "from google.colab import files\n",
        "uploaded = files.upload()\n",
        "\n",
        "# Load it into a DataFrame\n",
        "df = pd.read_excel(\"survey.xlsx\")  # replace with actual filename\n",
        "df.head()\n",
        "\n"
      ],
      "metadata": {
        "id": "O4CkGGzXGCac"
      },
      "execution_count": null,
      "outputs": []
    },
    {
      "cell_type": "code",
      "source": [
        "# Upload your CSV from local\n",
        "from google.colab import files\n",
        "uploaded = files.upload()\n",
        "\n",
        "# Load it into a DataFrame\n",
        "df_pitanja = pd.read_excel(\"question_sheet.xlsx\")  # replace with actual filename"
      ],
      "metadata": {
        "colab": {
          "base_uri": "https://localhost:8080/",
          "height": 73
        },
        "id": "FybTgVHULDxb",
        "outputId": "2bd57423-7b9f-4788-9179-92475f86261f"
      },
      "execution_count": null,
      "outputs": [
        {
          "output_type": "display_data",
          "data": {
            "text/plain": [
              "<IPython.core.display.HTML object>"
            ],
            "text/html": [
              "\n",
              "     <input type=\"file\" id=\"files-b3be9742-e991-47c0-84ab-f697c2e2ec6d\" name=\"files[]\" multiple disabled\n",
              "        style=\"border:none\" />\n",
              "     <output id=\"result-b3be9742-e991-47c0-84ab-f697c2e2ec6d\">\n",
              "      Upload widget is only available when the cell has been executed in the\n",
              "      current browser session. Please rerun this cell to enable.\n",
              "      </output>\n",
              "      <script>// Copyright 2017 Google LLC\n",
              "//\n",
              "// Licensed under the Apache License, Version 2.0 (the \"License\");\n",
              "// you may not use this file except in compliance with the License.\n",
              "// You may obtain a copy of the License at\n",
              "//\n",
              "//      http://www.apache.org/licenses/LICENSE-2.0\n",
              "//\n",
              "// Unless required by applicable law or agreed to in writing, software\n",
              "// distributed under the License is distributed on an \"AS IS\" BASIS,\n",
              "// WITHOUT WARRANTIES OR CONDITIONS OF ANY KIND, either express or implied.\n",
              "// See the License for the specific language governing permissions and\n",
              "// limitations under the License.\n",
              "\n",
              "/**\n",
              " * @fileoverview Helpers for google.colab Python module.\n",
              " */\n",
              "(function(scope) {\n",
              "function span(text, styleAttributes = {}) {\n",
              "  const element = document.createElement('span');\n",
              "  element.textContent = text;\n",
              "  for (const key of Object.keys(styleAttributes)) {\n",
              "    element.style[key] = styleAttributes[key];\n",
              "  }\n",
              "  return element;\n",
              "}\n",
              "\n",
              "// Max number of bytes which will be uploaded at a time.\n",
              "const MAX_PAYLOAD_SIZE = 100 * 1024;\n",
              "\n",
              "function _uploadFiles(inputId, outputId) {\n",
              "  const steps = uploadFilesStep(inputId, outputId);\n",
              "  const outputElement = document.getElementById(outputId);\n",
              "  // Cache steps on the outputElement to make it available for the next call\n",
              "  // to uploadFilesContinue from Python.\n",
              "  outputElement.steps = steps;\n",
              "\n",
              "  return _uploadFilesContinue(outputId);\n",
              "}\n",
              "\n",
              "// This is roughly an async generator (not supported in the browser yet),\n",
              "// where there are multiple asynchronous steps and the Python side is going\n",
              "// to poll for completion of each step.\n",
              "// This uses a Promise to block the python side on completion of each step,\n",
              "// then passes the result of the previous step as the input to the next step.\n",
              "function _uploadFilesContinue(outputId) {\n",
              "  const outputElement = document.getElementById(outputId);\n",
              "  const steps = outputElement.steps;\n",
              "\n",
              "  const next = steps.next(outputElement.lastPromiseValue);\n",
              "  return Promise.resolve(next.value.promise).then((value) => {\n",
              "    // Cache the last promise value to make it available to the next\n",
              "    // step of the generator.\n",
              "    outputElement.lastPromiseValue = value;\n",
              "    return next.value.response;\n",
              "  });\n",
              "}\n",
              "\n",
              "/**\n",
              " * Generator function which is called between each async step of the upload\n",
              " * process.\n",
              " * @param {string} inputId Element ID of the input file picker element.\n",
              " * @param {string} outputId Element ID of the output display.\n",
              " * @return {!Iterable<!Object>} Iterable of next steps.\n",
              " */\n",
              "function* uploadFilesStep(inputId, outputId) {\n",
              "  const inputElement = document.getElementById(inputId);\n",
              "  inputElement.disabled = false;\n",
              "\n",
              "  const outputElement = document.getElementById(outputId);\n",
              "  outputElement.innerHTML = '';\n",
              "\n",
              "  const pickedPromise = new Promise((resolve) => {\n",
              "    inputElement.addEventListener('change', (e) => {\n",
              "      resolve(e.target.files);\n",
              "    });\n",
              "  });\n",
              "\n",
              "  const cancel = document.createElement('button');\n",
              "  inputElement.parentElement.appendChild(cancel);\n",
              "  cancel.textContent = 'Cancel upload';\n",
              "  const cancelPromise = new Promise((resolve) => {\n",
              "    cancel.onclick = () => {\n",
              "      resolve(null);\n",
              "    };\n",
              "  });\n",
              "\n",
              "  // Wait for the user to pick the files.\n",
              "  const files = yield {\n",
              "    promise: Promise.race([pickedPromise, cancelPromise]),\n",
              "    response: {\n",
              "      action: 'starting',\n",
              "    }\n",
              "  };\n",
              "\n",
              "  cancel.remove();\n",
              "\n",
              "  // Disable the input element since further picks are not allowed.\n",
              "  inputElement.disabled = true;\n",
              "\n",
              "  if (!files) {\n",
              "    return {\n",
              "      response: {\n",
              "        action: 'complete',\n",
              "      }\n",
              "    };\n",
              "  }\n",
              "\n",
              "  for (const file of files) {\n",
              "    const li = document.createElement('li');\n",
              "    li.append(span(file.name, {fontWeight: 'bold'}));\n",
              "    li.append(span(\n",
              "        `(${file.type || 'n/a'}) - ${file.size} bytes, ` +\n",
              "        `last modified: ${\n",
              "            file.lastModifiedDate ? file.lastModifiedDate.toLocaleDateString() :\n",
              "                                    'n/a'} - `));\n",
              "    const percent = span('0% done');\n",
              "    li.appendChild(percent);\n",
              "\n",
              "    outputElement.appendChild(li);\n",
              "\n",
              "    const fileDataPromise = new Promise((resolve) => {\n",
              "      const reader = new FileReader();\n",
              "      reader.onload = (e) => {\n",
              "        resolve(e.target.result);\n",
              "      };\n",
              "      reader.readAsArrayBuffer(file);\n",
              "    });\n",
              "    // Wait for the data to be ready.\n",
              "    let fileData = yield {\n",
              "      promise: fileDataPromise,\n",
              "      response: {\n",
              "        action: 'continue',\n",
              "      }\n",
              "    };\n",
              "\n",
              "    // Use a chunked sending to avoid message size limits. See b/62115660.\n",
              "    let position = 0;\n",
              "    do {\n",
              "      const length = Math.min(fileData.byteLength - position, MAX_PAYLOAD_SIZE);\n",
              "      const chunk = new Uint8Array(fileData, position, length);\n",
              "      position += length;\n",
              "\n",
              "      const base64 = btoa(String.fromCharCode.apply(null, chunk));\n",
              "      yield {\n",
              "        response: {\n",
              "          action: 'append',\n",
              "          file: file.name,\n",
              "          data: base64,\n",
              "        },\n",
              "      };\n",
              "\n",
              "      let percentDone = fileData.byteLength === 0 ?\n",
              "          100 :\n",
              "          Math.round((position / fileData.byteLength) * 100);\n",
              "      percent.textContent = `${percentDone}% done`;\n",
              "\n",
              "    } while (position < fileData.byteLength);\n",
              "  }\n",
              "\n",
              "  // All done.\n",
              "  yield {\n",
              "    response: {\n",
              "      action: 'complete',\n",
              "    }\n",
              "  };\n",
              "}\n",
              "\n",
              "scope.google = scope.google || {};\n",
              "scope.google.colab = scope.google.colab || {};\n",
              "scope.google.colab._files = {\n",
              "  _uploadFiles,\n",
              "  _uploadFilesContinue,\n",
              "};\n",
              "})(self);\n",
              "</script> "
            ]
          },
          "metadata": {}
        },
        {
          "output_type": "stream",
          "name": "stdout",
          "text": [
            "Saving matrei_pitanja.xlsx to matrei_pitanja (9).xlsx\n"
          ]
        }
      ]
    },
    {
      "cell_type": "code",
      "source": [
        "df_pitanja.head()"
      ],
      "metadata": {
        "id": "2xdVKx6MLbk1"
      },
      "execution_count": null,
      "outputs": []
    },
    {
      "cell_type": "code",
      "source": [
        "ordinal_vars = []\n",
        "for qid, qtype in zip(df_pitanja[\"QuestionID\"], df_pitanja[\"Type\"]):\n",
        "    if qtype == \"Scale\":\n",
        "        ordinal_vars.append(str(qid))\n"
      ],
      "metadata": {
        "id": "AvbwqaabLlDh"
      },
      "execution_count": null,
      "outputs": []
    },
    {
      "cell_type": "code",
      "source": [
        "ordinal_vars = [str(int(float(col))) if str(col).endswith('.0') else str(col) for col in ordinal_vars]"
      ],
      "metadata": {
        "id": "ocXTkGCPZ_Wg"
      },
      "execution_count": null,
      "outputs": []
    },
    {
      "cell_type": "code",
      "source": [
        "select_one = []\n",
        "for qid, qtype in zip(df_pitanja[\"QuestionID\"], df_pitanja[\"Type\"]):\n",
        "    if qtype == \"SelectOne\":\n",
        "        select_one.append(qid)"
      ],
      "metadata": {
        "id": "nWH0Z_NvN-yw"
      },
      "execution_count": null,
      "outputs": []
    },
    {
      "cell_type": "code",
      "source": [
        "select_one = [str(int(float(col))) if str(col).endswith('.0') else str(col) for col in select_one]"
      ],
      "metadata": {
        "id": "wtDbAln3aKE2"
      },
      "execution_count": null,
      "outputs": []
    },
    {
      "cell_type": "code",
      "source": [
        "multi_nominal_cols = []\n",
        "for qid, qtype in zip(df_pitanja[\"QuestionID\"], df_pitanja[\"Type\"]):\n",
        "    if qtype == \"SelectMultiple\":\n",
        "        multi_nominal_cols.append(qid)"
      ],
      "metadata": {
        "id": "MHkQZ4oMORwk"
      },
      "execution_count": null,
      "outputs": []
    },
    {
      "cell_type": "code",
      "source": [
        "multi_nominal_cols = [str(int(float(col))) if str(col).endswith('.0') else str(col) for col in multi_nominal_cols]"
      ],
      "metadata": {
        "id": "e7QqfdiMaPe0"
      },
      "execution_count": null,
      "outputs": []
    },
    {
      "cell_type": "code",
      "source": [
        "# See missing values per column\n",
        "df_mising=df.isnull().sum().sort_values(ascending=False)"
      ],
      "metadata": {
        "id": "fV6tVgjMOjcr"
      },
      "execution_count": null,
      "outputs": []
    },
    {
      "cell_type": "code",
      "source": [
        "za_drop = []\n",
        "\n",
        "for index, value in df_mising.items():\n",
        "    if value > 8:\n",
        "        za_drop.append(index)"
      ],
      "metadata": {
        "id": "-uVmpoMBPZn4"
      },
      "execution_count": null,
      "outputs": []
    },
    {
      "cell_type": "code",
      "source": [
        "za_drop = [str(int(float(col))) if str(col).endswith('.0') else str(col) for col in za_drop]"
      ],
      "metadata": {
        "id": "cTfaXl8FaUSp"
      },
      "execution_count": null,
      "outputs": []
    },
    {
      "cell_type": "code",
      "source": [
        "za_drop2 = []\n",
        "\n",
        "for qid, qtype in zip(df_pitanja[\"QuestionID\"], df_pitanja[\"Type\"]):\n",
        "    if qtype == \"Text\":\n",
        "        za_drop2.append(str(qid))  # convert to string here\n"
      ],
      "metadata": {
        "id": "fLP7JyvAT_LT"
      },
      "execution_count": null,
      "outputs": []
    },
    {
      "cell_type": "code",
      "source": [
        "za_drop2_cleaned = [str(int(float(col))) if str(col).endswith('.0') else str(col) for col in za_drop2]"
      ],
      "metadata": {
        "id": "KqjqMGvhWio_"
      },
      "execution_count": null,
      "outputs": []
    },
    {
      "cell_type": "code",
      "source": [
        "# 🔹 Step 2: Drop rows where 379.1 is missing\n",
        "df = df[df['379'].notna()]\n",
        "\n",
        "# 🔹 Step 3: Convert 379.1 to binary target variable\n",
        "df['379_binary'] = df['379'].apply(lambda x: 1 if x <= 4 else 0)\n",
        "df = df.drop(columns=['379'])"
      ],
      "metadata": {
        "id": "8e76VLOkGTJg",
        "collapsed": true
      },
      "execution_count": null,
      "outputs": []
    },
    {
      "cell_type": "code",
      "source": [
        "df = df.drop(columns=za_drop)"
      ],
      "metadata": {
        "collapsed": true,
        "id": "akacyr9eHLw9"
      },
      "execution_count": null,
      "outputs": []
    },
    {
      "cell_type": "code",
      "source": [
        "df = df.drop(columns=za_drop2_cleaned, errors='ignore')\n"
      ],
      "metadata": {
        "id": "sBfYaE0OUf7a"
      },
      "execution_count": null,
      "outputs": []
    },
    {
      "cell_type": "code",
      "source": [
        "df = df.iloc[:, 10:]\n"
      ],
      "metadata": {
        "id": "z6bTFWz2ReS8"
      },
      "execution_count": null,
      "outputs": []
    },
    {
      "cell_type": "code",
      "source": [
        "df = df.iloc[:, 4:]"
      ],
      "metadata": {
        "id": "LI-6JQQzsC8n"
      },
      "execution_count": null,
      "outputs": []
    },
    {
      "cell_type": "code",
      "source": [
        "df.isnull().sum().sort_values(ascending=False)"
      ],
      "metadata": {
        "id": "U_3XkOcwQ85r"
      },
      "execution_count": null,
      "outputs": []
    },
    {
      "cell_type": "code",
      "source": [
        "# Step 2: Filter out columns that don’t exist in the DataFrame\n",
        "ordinal_vars = [col for col in ordinal_vars if col in df.columns]\n",
        "\n",
        "# Step 3: Convert only valid ones\n",
        "for col in ordinal_vars:\n",
        "    df[col] = df[col].astype('Int64')\n"
      ],
      "metadata": {
        "id": "BNg8lB6TRLli"
      },
      "execution_count": null,
      "outputs": []
    },
    {
      "cell_type": "code",
      "source": [
        "for col in multi_nominal_cols:\n",
        "    if col in df.columns:\n",
        "        # Step 1: Clean missing and convert to string\n",
        "        df[col] = df[col].fillna('').astype(str)\n",
        "\n",
        "        # Step 2: One-hot encode selections\n",
        "        dummies = df[col].str.get_dummies(sep='/')\n",
        "        dummies.columns = [f\"{col}_{c.strip()}\" for c in dummies.columns]\n",
        "\n",
        "        # Step 3: Create missing-all flag BEFORE dropping or joining\n",
        "        df[f'{col}_missing_all'] = dummies.sum(axis=1).eq(0).astype(int)\n",
        "\n",
        "        # Step 4: Replace original with dummies\n",
        "        df = df.drop(columns=[col])\n",
        "        df = pd.concat([df, dummies], axis=1)\n"
      ],
      "metadata": {
        "id": "wtdNwZCTRZYa"
      },
      "execution_count": null,
      "outputs": []
    },
    {
      "cell_type": "code",
      "source": [
        "for col in df.select_dtypes(include='number').columns:\n",
        "    median = df[col].median()\n",
        "    if pd.api.types.is_integer_dtype(df[col]):\n",
        "        median = int(round(median))  # force integer\n",
        "    df[col] = df[col].fillna(median)\n"
      ],
      "metadata": {
        "id": "bbVqd3JsRucj"
      },
      "execution_count": null,
      "outputs": []
    },
    {
      "cell_type": "code",
      "source": [
        "for col in select_one:\n",
        "    if col in df.columns:\n",
        "        # Step 1: Clean missing and convert to string\n",
        "        df[col] = df[col].fillna('').astype(str)\n",
        "\n",
        "        # Step 2: One-hot encode selections\n",
        "        dummies = df[col].str.get_dummies(sep=',')\n",
        "        dummies.columns = [f\"{col}_{c.strip()}\" for c in dummies.columns]\n",
        "\n",
        "        # Step 3: Create missing-all flag BEFORE dropping or joining\n",
        "        df[f'{col}_missing_all'] = dummies.sum(axis=1).eq(0).astype(int)\n",
        "\n",
        "        # Step 4: Replace original with dummies\n",
        "        df = df.drop(columns=[col])\n",
        "        df = pd.concat([df, dummies], axis=1)\n"
      ],
      "metadata": {
        "id": "cI8Y_BprTCi-"
      },
      "execution_count": null,
      "outputs": []
    },
    {
      "cell_type": "code",
      "source": [
        "output_path = \".csv\"\n",
        "df.to_csv(output_path, index=False)\n",
        "\n",
        "# Step 7: Trigger download (Colab only)\n",
        "files.download(output_path)"
      ],
      "metadata": {
        "id": "YBEH6ecjOE0e",
        "outputId": "e832ed8e-65eb-4ddd-ddb9-2654797442ab",
        "colab": {
          "base_uri": "https://localhost:8080/",
          "height": 17
        }
      },
      "execution_count": null,
      "outputs": [
        {
          "output_type": "display_data",
          "data": {
            "text/plain": [
              "<IPython.core.display.Javascript object>"
            ],
            "application/javascript": [
              "\n",
              "    async function download(id, filename, size) {\n",
              "      if (!google.colab.kernel.accessAllowed) {\n",
              "        return;\n",
              "      }\n",
              "      const div = document.createElement('div');\n",
              "      const label = document.createElement('label');\n",
              "      label.textContent = `Downloading \"${filename}\": `;\n",
              "      div.appendChild(label);\n",
              "      const progress = document.createElement('progress');\n",
              "      progress.max = size;\n",
              "      div.appendChild(progress);\n",
              "      document.body.appendChild(div);\n",
              "\n",
              "      const buffers = [];\n",
              "      let downloaded = 0;\n",
              "\n",
              "      const channel = await google.colab.kernel.comms.open(id);\n",
              "      // Send a message to notify the kernel that we're ready.\n",
              "      channel.send({})\n",
              "\n",
              "      for await (const message of channel.messages) {\n",
              "        // Send a message to notify the kernel that we're ready.\n",
              "        channel.send({})\n",
              "        if (message.buffers) {\n",
              "          for (const buffer of message.buffers) {\n",
              "            buffers.push(buffer);\n",
              "            downloaded += buffer.byteLength;\n",
              "            progress.value = downloaded;\n",
              "          }\n",
              "        }\n",
              "      }\n",
              "      const blob = new Blob(buffers, {type: 'application/binary'});\n",
              "      const a = document.createElement('a');\n",
              "      a.href = window.URL.createObjectURL(blob);\n",
              "      a.download = filename;\n",
              "      div.appendChild(a);\n",
              "      a.click();\n",
              "      div.remove();\n",
              "    }\n",
              "  "
            ]
          },
          "metadata": {}
        },
        {
          "output_type": "display_data",
          "data": {
            "text/plain": [
              "<IPython.core.display.Javascript object>"
            ],
            "application/javascript": [
              "download(\"download_18dd84ec-87b6-4662-b8f5-10b1bb263a57\", \"madrei.csv\", 13514)"
            ]
          },
          "metadata": {}
        }
      ]
    }
  ]
}